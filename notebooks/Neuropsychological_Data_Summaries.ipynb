{
 "cells": [
  {
   "cell_type": "markdown",
   "metadata": {},
   "source": [
    "## This file describes the data in each of the seven exams we use in our analyses"
   ]
  },
  {
   "cell_type": "markdown",
   "metadata": {},
   "source": [
    "### ADAS (Alzheimer's Disease Assessment Scale)\n",
    "- Primarily measures language and memory\n",
    "- Scoring\n",
    "    - Higher scores indicate greater dysfunction.\n",
    "- Tasks:\n",
    "    - Word recall\n",
    "    - Naming objects and fingers\n",
    "    - Following commands (i.e. simple instructions like \"put the pencil in my hand\")\n",
    "    - Constructional Praxis (i.e. drawing increasingly complex shapes that are shown to subject)\n",
    "    - Ideational Praxis (e.g. ask subject to *pretend* to write a letter, fold it, put it in envelope, and place stamp)\n",
    "    - Orientation (Does subject know their name, the year, the month, where they are, etc.)\n",
    "    - Word recognition (subject sees a list of words; when shown a word later, have to say whether it was on initial list)\n",
    "    - Remembering test directions\n",
    "    - Comprehension (assesed throughout testing; how well does subject understand words and language)\n",
    "    - Word-finding difficulty (assessed through spontaneous conversation during assessment)\n",
    "\n",
    "*source: https://www.verywell.com/alzheimers-disease-assessment-scale-98625 *"
   ]
  },
  {
   "cell_type": "markdown",
   "metadata": {},
   "source": [
    "### CDR (Clinical Dementia Rating)\n",
    "- Measures cognitive and functional performance\n",
    "- Scoring\n",
    "    - Higher scores indicate higher stages of dementia (i.e. more severe symptoms)\n",
    "    - Final composite score between 0 and 3\n",
    "- Six areas of testing:\n",
    "    - Memory\n",
    "    - Orientation\n",
    "    - Judgment & problem solving\n",
    "    - Community affairs\n",
    "    - Home & hobbies\n",
    "    - Personal care\n",
    "- Notes:\n",
    "    - Takes a long time to administer\n",
    "    - High interrater reliability (Utility of the Clinical Dementia Rating in Asian Populations - Lim et al. 5 (1): 61 - Clinical Medicine & Research)\n",
    "\n",
    "*source: https://en.wikipedia.org/wiki/Clinical_Dementia_Rating*"
   ]
  },
  {
   "cell_type": "markdown",
   "metadata": {},
   "source": [
    "### FAQ (Functional Assessment Questionnaire)\n",
    "- Measures ability to perform \"activities of daily living\"\n",
    "- Scoring\n",
    "    - Higher scores indicate greater dependence\n",
    "- 10 questions\n",
    "    - Writing checks, Doing taxes, shopping, etc.\n",
    "- Notes:\n",
    "    - Has been shown to be able to distinguish between mild cognitive impairment and \"very mild alzheimer's disease\" (https://www.ncbi.nlm.nih.gov/pmc/articles/PMC2997338/)\n",
    "    \n",
    "*source: ADNI data dictionary*"
   ]
  },
  {
   "cell_type": "markdown",
   "metadata": {},
   "source": [
    "### GDS (Geriatric Depression Scale)\n",
    "- 30 item self-report assessment (note: ADNI 1 only had 15 questions)\n",
    "    - Each item takes a yes/no answer\n",
    "- Scoring:\n",
    "    - Higher scores indicate greater depression\n",
    "- Example questions (from ADNI dictionary):\n",
    "    - \"Are you basically satisfied with your life?\"\n",
    "    - \"Do you often get bored?\"\n",
    "    - \"Do you feel full of energy?\"\n",
    "    \n",
    "*source: https://en.wikipedia.org/wiki/Geriatric_Depression_Scale*"
   ]
  },
  {
   "cell_type": "markdown",
   "metadata": {},
   "source": [
    "### Mini Mental-state Exam\n",
    "- 30 item questionnaire (ADNI 1 has all 30)\n",
    "- Measures factors similar to ADAS-cog\n",
    "- Scoring:\n",
    "    - Higher scores indicate better functioning\n",
    "- Note:\n",
    "    - Requires no training for administration\n",
    "    - Affected by demographics\n",
    "        - Age and education\n",
    "\n",
    "*source: https://en.wikipedia.org/wiki/Mini%E2%80%93Mental_State_Examination*"
   ]
  },
  {
   "cell_type": "markdown",
   "metadata": {},
   "source": [
    "### Modified Hachinski Scale\n",
    "- Attempts to differentiate between alzheimers and dementia\n",
    "- For each item, the physician indicates whether the stated condition is present or absent\n",
    "- Scoring:\n",
    "    - Score of 2 or less predicts alzheimers\n",
    "    - Score greater than 2 predicts dementia\n",
    "- Notes:\n",
    "    - \"Recent research has shown that the Hachinski score has no predictive value when using autopsy as the gold-standard diagnostic tool.\"\n",
    "    - Some items are given 2 points when present\n",
    "        - In the clean data, we've kept the total (weighted) score, but recoded all items to [0,1]\n",
    "    \n",
    "*source: http://www.gpnotebook.co.uk/simplepage.cfm?ID=-301596617*"
   ]
  },
  {
   "cell_type": "markdown",
   "metadata": {},
   "source": [
    "### Neuropsychiatric Inventory Q\n",
    "- Administered to caregivers of patients\n",
    "- Scoring:\n",
    "    - Higher scores indicate greater dysfunction\n",
    "- Example questions:\n",
    "    - \"Does [patient] believe people are stealing from him/her?\"\n",
    "    - \"Does [patient] appear to feel too good or act excessively happy?\"\n",
    "- Notes:\n",
    "    - \"...the NPI is able to screen for multiple types of dementia, not just Alzheimer’s Disease\"\n",
    "    - High interrater reliability\n",
    "    \n",
    "*source: http://www.apa.org/pi/about/publications/caregivers/practice-settings/assessment/tools/neuropsychiatric-inventory.aspx*"
   ]
  }
 ],
 "metadata": {
  "kernelspec": {
   "display_name": "Python 3",
   "language": "python",
   "name": "python3"
  },
  "language_info": {
   "codemirror_mode": {
    "name": "ipython",
    "version": 3
   },
   "file_extension": ".py",
   "mimetype": "text/x-python",
   "name": "python",
   "nbconvert_exporter": "python",
   "pygments_lexer": "ipython3",
   "version": "3.6.1"
  }
 },
 "nbformat": 4,
 "nbformat_minor": 2
}
