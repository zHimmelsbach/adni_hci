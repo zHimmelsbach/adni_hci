{
 "cells": [
  {
   "cell_type": "markdown",
   "metadata": {},
   "source": [
    "# A Cheaper Way to Target Expensive Diagnostic Techniques for Alzheimer's?"
   ]
  },
  {
   "cell_type": "markdown",
   "metadata": {},
   "source": [
    "### Project Motivation\n",
    "\n",
    "Clinician use FDG-PET scans to determine the degree of hypometabolism (unusually low metabolic activity) in a patient's brain. These measurements can help predict whether a patients with Mild Cognitive Impairment is likely to develop Alzheimer's Disease. However, these scans are very expensive. \n",
    "\n",
    "\n",
    "### What if we could find a way to target PET scans to the patients at highest risk of developing Alzheimer's? \n",
    "\n",
    "We decided to see if we could use answers to cognitive test questions to see if we could predict the extent of hypometabolism in patient brains. "
   ]
  }
 ],
 "metadata": {
  "kernelspec": {
   "display_name": "Python 3",
   "language": "python",
   "name": "python3"
  },
  "language_info": {
   "codemirror_mode": {
    "name": "ipython",
    "version": 3
   },
   "file_extension": ".py",
   "mimetype": "text/x-python",
   "name": "python",
   "nbconvert_exporter": "python",
   "pygments_lexer": "ipython3",
   "version": "3.6.1"
  }
 },
 "nbformat": 4,
 "nbformat_minor": 2
}
