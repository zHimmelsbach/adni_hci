{
 "cells": [
  {
   "cell_type": "markdown",
   "metadata": {},
   "source": [
    "# Baseline OLS model and Regression on PCA components"
   ]
  },
  {
   "cell_type": "code",
   "execution_count": 10,
   "metadata": {},
   "outputs": [],
   "source": [
    "import pandas as pd\n",
    "import numpy as np\n",
    "import matplotlib\n",
    "import matplotlib.pyplot as plt\n",
    "import sklearn.metrics as metrics\n",
    "from sklearn.model_selection import cross_val_score, train_test_split, GridSearchCV\n",
    "import seaborn as sns\n",
    "import time\n",
    "import re\n",
    "import statsmodels.api as sm\n",
    "from statsmodels.api import OLS\n",
    "from sklearn.linear_model import LinearRegression\n",
    "from os import chdir\n",
    "from sklearn import decomposition, datasets\n",
    "from sklearn.pipeline import Pipeline\n",
    "\n",
    "%matplotlib inline"
   ]
  },
  {
   "cell_type": "code",
   "execution_count": 2,
   "metadata": {
    "collapsed": true
   },
   "outputs": [],
   "source": [
    "#Set styles\n",
    "sns.set_style('white')\n",
    "sns.set_context('talk')"
   ]
  },
  {
   "cell_type": "code",
   "execution_count": 7,
   "metadata": {},
   "outputs": [],
   "source": [
    "chdir('C:/Users/zacha/STAT121/final_project')\n",
    "all_merged = pd.read_pickle(\"ADNIcsv/all_merged.pkl\")\n",
    "total_score_names = ['adas_total_0', 'adas_total_06', 'adas_total_12', \n",
    "                     'cdglobal_sc', 'cdglobal_06', 'cdglobal_12',  \n",
    "                     'faqtotal_bl', 'faqtotal_06', 'faqtotal_12', \n",
    "                     'gdtotal_sc', 'gdtotal_12',  \n",
    "                     'mmscore_sc', 'mmscore_06', 'mmscore_12', \n",
    "                     'hmscore',\n",
    "                     'npiscore_bl', 'npiscore_06', 'npiscore_12']\n",
    "hci_fields = ['hci_bl', 'hci_m06', 'hci_m12']\n",
    "total_scores = all_merged.loc[:, total_score_names + hci_fields]\n"
   ]
  },
  {
   "cell_type": "markdown",
   "metadata": {},
   "source": [
    "## Baseline model using total scores from each exam in OLS regression"
   ]
  },
  {
   "cell_type": "code",
   "execution_count": 9,
   "metadata": {},
   "outputs": [
    {
     "name": "stdout",
     "output_type": "stream",
     "text": [
      "[ 0.5308811   0.17709255  0.19098118  0.50144886  0.06327313]\n",
      "0.519914700016\n",
      "0.288227208059\n"
     ]
    }
   ],
   "source": [
    "# Baseline model using total scores from each exam\n",
    "# Use baseline and pre-screening predictors only; predict baseline HCI\n",
    "X_cols = [x for x in total_score_names if re.search(r'0|bl|sc', x) != None and re.search(r'hci',x) == None]\n",
    "# only keep observations that have all total scores and a baseline HCI measurement\n",
    "temp = total_scores[X_cols + ['hci_bl']].dropna()\n",
    "X = temp[X_cols]\n",
    "y = temp['hci_bl']\n",
    "\n",
    "# Split into training and test\n",
    "X_train, X_test, y_train, y_test = train_test_split(X, y, test_size=.2)\n",
    "\n",
    "baseline = LinearRegression()\n",
    "print(cross_val_score(baseline, X_train, y_train, cv=5, n_jobs=-1))\n",
    "baseline.fit(X_train, y_train)\n",
    "\n",
    "print(metrics.r2_score(y_train, baseline.predict(X_train)))\n",
    "print(metrics.r2_score(y_test, baseline.predict(X_test)))"
   ]
  },
  {
   "cell_type": "markdown",
   "metadata": {},
   "source": [
    "## OLS with ADAS items only"
   ]
  },
  {
   "cell_type": "code",
   "execution_count": 82,
   "metadata": {},
   "outputs": [
    {
     "name": "stdout",
     "output_type": "stream",
     "text": [
      "[ 0.23354186  0.17460298  0.72799779  0.13840559  0.27949847]\n",
      "0.527257354732\n",
      "0.2994252453\n"
     ]
    }
   ],
   "source": [
    "# OLS using ADAS subscores\n",
    "adas_cols = [x for x in all_merged.columns if re.search(r'hci|cd|faq|gd|mm|RID|hm|npi|06|12|total', x) == None]\n",
    "adas_temp = all_merged[adas_cols + ['hci_bl']].dropna()\n",
    "X_adas = adas_temp[adas_cols]\n",
    "y_adas = adas_temp['hci_bl']\n",
    "\n",
    "# Split into training and test\n",
    "X_train_adas, X_test_adas, y_train_adas, y_test_adas = train_test_split(X_adas, y_adas, test_size=.2)\n",
    "\n",
    "baseline = LinearRegression()\n",
    "print(cross_val_score(baseline, X_train_adas, y_train_adas, cv=5, n_jobs=-1))\n",
    "baseline.fit(X_train_adas, y_train_adas)\n",
    "print(metrics.r2_score(y_train_adas, baseline.predict(X_train_adas)))\n",
    "print(metrics.r2_score(y_test_adas, baseline.predict(X_test_adas)))"
   ]
  },
  {
   "cell_type": "markdown",
   "metadata": {},
   "source": [
    "#### Function to run OLS on items from chosen exam"
   ]
  },
  {
   "cell_type": "code",
   "execution_count": 70,
   "metadata": {
    "collapsed": true
   },
   "outputs": [],
   "source": [
    "def baseline_on_exam(model, exam_prefix):\n",
    "    exam_cols = [x for x in all_merged.columns if re.search(r'hci|RID|06|12|total|global|score', x) == None and re.search(f'{exam_prefix}', x) != None]\n",
    "    exam_temp = all_merged[exam_cols + ['hci_bl']].dropna()\n",
    "    X_exam = exam_temp[exam_cols]\n",
    "    y_exam = exam_temp['hci_bl']\n",
    "    \n",
    "    # Split into training and test\n",
    "    X_train_exam, X_test_exam, y_train_exam, y_test_exam = train_test_split(X_exam, y_exam, test_size=.2)\n",
    "    \n",
    "    model = model()\n",
    "    print(cross_val_score(model, X_train_exam, y_train_exam, cv=5, n_jobs=-1))\n",
    "    print('Number of items: ', X_train_exam.shape[1])\n",
    "    model.fit(X_train_exam, y_train_exam)\n",
    "    train_score = metrics.r2_score(y_train_exam, model.predict(X_train_exam))\n",
    "    test_score = metrics.r2_score(y_test_exam, model.predict(X_test_exam))\n",
    "    return train_score, test_score\n",
    "    "
   ]
  },
  {
   "cell_type": "markdown",
   "metadata": {},
   "source": [
    "### Get columns for baseline, 6 months, and 12 months"
   ]
  },
  {
   "cell_type": "code",
   "execution_count": 11,
   "metadata": {
    "collapsed": true
   },
   "outputs": [],
   "source": [
    "items_bl = [x for x in all_merged.columns if re.search(r'06|12|hci', x) == None]\n",
    "items_06 = [x for x in all_merged.columns if re.search(r'06', x) != None and re.search(r'hci', x) == None]\n",
    "items_12 = [x for x in all_merged.columns if re.search(r'12', x) != None and re.search(r'hci', x) == None]"
   ]
  },
  {
   "cell_type": "markdown",
   "metadata": {},
   "source": [
    "# PCA"
   ]
  },
  {
   "cell_type": "code",
   "execution_count": 13,
   "metadata": {},
   "outputs": [],
   "source": [
    "# We don't need to rescale since all the test items have been made [0,1] binary in cleaning\n",
    "pca = decomposition.PCA()\n",
    "ols = LinearRegression()\n",
    "\n",
    "pipe = Pipeline(steps=[('pca', pca), ('ols', ols)])"
   ]
  },
  {
   "cell_type": "code",
   "execution_count": 65,
   "metadata": {
    "collapsed": true
   },
   "outputs": [],
   "source": [
    "def run_pca_ols(predictors, outcome):\n",
    "    temp = all_merged[predictors + [outcome]].dropna()\n",
    "    X = temp[predictors]\n",
    "    y = temp[outcome]\n",
    "    \n",
    "    X_train, X_test, y_train, y_test = train_test_split(X, y, test_size=.2)\n",
    "    \n",
    "    pca.fit(X)\n",
    "    \n",
    "    # plot PCA variance explained over # of components\n",
    "    plt.figure(1, figsize=(4, 3))\n",
    "    plt.axes([.2, .2, .7, .7])\n",
    "    plt.plot(pca.explained_variance_ratio_, linewidth=2)\n",
    "    plt.axis('tight')\n",
    "    plt.xlabel('# of components')\n",
    "    plt.ylabel('explained variance')\n",
    "    plt.xlim((0,15))\n",
    "    plt.title(outcome)\n",
    "    \n",
    "    # Prediction\n",
    "    n_components = [i for i in range(1, 20)]\n",
    "    model = GridSearchCV(pipe, dict(pca__n_components=n_components))\n",
    "    model.fit(X_train, y_train)\n",
    "\n",
    "    plt.axvline(model.best_estimator_.named_steps['pca'].n_components,\n",
    "                linestyle=':', label='# of components chosen')\n",
    "    plt.legend(prop=dict(size=12))\n",
    "    plt.show()\n",
    "    \n",
    "    # Score\n",
    "    return model.score(X_test, y_test)"
   ]
  },
  {
   "cell_type": "code",
   "execution_count": 74,
   "metadata": {},
   "outputs": [
    {
     "data": {
      "image/png": "[encoded data removed]",
      "text/plain": [
       "<matplotlib.figure.Figure at 0x190e0ea1f98>"
      ]
     },
     "metadata": {},
     "output_type": "display_data"
    },
    {
     "data": {
      "text/plain": [
       "0.53219051818616636"
      ]
     },
     "execution_count": 74,
     "metadata": {},
     "output_type": "execute_result"
    }
   ],
   "source": [
    "run_pca_ols(items_12, 'hci_m12')"
   ]
  },
  {
   "cell_type": "code",
   "execution_count": 71,
   "metadata": {},
   "outputs": [
    {
     "data": {
      "image/png": "[encoded data removed]",
      "text/plain": [
       "<matplotlib.figure.Figure at 0x190e2337198>"
      ]
     },
     "metadata": {},
     "output_type": "display_data"
    },
    {
     "data": {
      "text/plain": [
       "0.29178378989917653"
      ]
     },
     "execution_count": 71,
     "metadata": {},
     "output_type": "execute_result"
    }
   ],
   "source": [
    "run_pca_ols(items_bl, 'hci_bl')"
   ]
  },
  {
   "cell_type": "code",
   "execution_count": 57,
   "metadata": {},
   "outputs": [
    {
     "data": {
      "image/png": "[encoded data removed]",
      "text/plain": [
       "<matplotlib.figure.Figure at 0x190e2282c50>"
      ]
     },
     "metadata": {},
     "output_type": "display_data"
    },
    {
     "data": {
      "text/plain": [
       "0.57356036718552561"
      ]
     },
     "execution_count": 57,
     "metadata": {},
     "output_type": "execute_result"
    }
   ],
   "source": [
    "run_pca_ols(items_06, 'hci_m06')"
   ]
  }
 ],
 "metadata": {
  "kernelspec": {
   "display_name": "Python 3",
   "language": "python",
   "name": "python3"
  },
  "language_info": {
   "codemirror_mode": {
    "name": "ipython",
    "version": 3
   },
   "file_extension": ".py",
   "mimetype": "text/x-python",
   "name": "python",
   "nbconvert_exporter": "python",
   "pygments_lexer": "ipython3",
   "version": "3.6.1"
  }
 },
 "nbformat": 4,
 "nbformat_minor": 2
}
