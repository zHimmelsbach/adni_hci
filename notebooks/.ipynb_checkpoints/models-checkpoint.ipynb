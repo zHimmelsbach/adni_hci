{
 "cells": [
  {
   "cell_type": "markdown",
   "metadata": {},
   "source": [
    "# Modeling "
   ]
  },
  {
   "cell_type": "code",
   "execution_count": 10,
   "metadata": {
    "collapsed": true
   },
   "outputs": [],
   "source": [
    "import pandas as pd\n",
    "import numpy as np\n",
    "import matplotlib\n",
    "import matplotlib.pyplot as plt\n",
    "import sklearn.metrics as metrics\n",
    "import seaborn as sns\n",
    "import re\n",
    "from sklearn.linear_model import LinearRegression\n",
    "import statsmodels.api as sm\n",
    "from scipy import stats\n",
    "from sklearn.model_selection import train_test_split\n",
    "from sklearn.ensemble import RandomForestRegressor\n",
    "from sklearn.preprocessing import PolynomialFeatures\n",
    "from os import chdir\n",
    "\n",
    "%matplotlib inline"
   ]
  },
  {
   "cell_type": "code",
   "execution_count": 49,
   "metadata": {
    "collapsed": true
   },
   "outputs": [],
   "source": [
    "sns.set_context('talk')"
   ]
  },
  {
   "cell_type": "markdown",
   "metadata": {},
   "source": [
    "# Baseline Model"
   ]
  },
  {
   "cell_type": "code",
   "execution_count": 11,
   "metadata": {
    "collapsed": true
   },
   "outputs": [],
   "source": [
    "# ALLI loading data for models\n",
    "all_merged = pd.read_pickle(\"ADNIcsv/all_merged.pkl\")"
   ]
  },
  {
   "cell_type": "code",
   "execution_count": 12,
   "metadata": {
    "collapsed": true
   },
   "outputs": [],
   "source": [
    "# Function to extract columns according to a string key\n",
    "def extract_fields(columns, key, is_at_start):\n",
    "    match_list = []\n",
    "    if is_at_start == True:\n",
    "        length = len(key)\n",
    "        for col in columns:\n",
    "            if key in col[:length]:\n",
    "                if \"score\" not in col:\n",
    "                    match_list.append(col)\n",
    "    else:\n",
    "        for col in columns:\n",
    "            if key in col:\n",
    "                if \"score\" not in col:\n",
    "                    match_list.append(col)\n",
    "    return match_list"
   ]
  },
  {
   "cell_type": "code",
   "execution_count": 13,
   "metadata": {
    "collapsed": true
   },
   "outputs": [],
   "source": [
    "# List of composite test score field names\n",
    "total_score_names = ['adas_total_0', 'adas_total_06', 'adas_total_12', \n",
    "                     'cdglobal_sc', 'cdglobal_06', 'cdglobal_12',  \n",
    "                     'faqtotal_bl', 'faqtotal_06', 'faqtotal_12', \n",
    "                     'gdtotal_sc', 'gdtotal_12',  \n",
    "                     'mmscore_sc', 'mmscore_06', 'mmscore_12', \n",
    "                     'hmscore',\n",
    "                     'npiscore_bl', 'npiscore_06', 'npiscore_12']"
   ]
  },
  {
   "cell_type": "code",
   "execution_count": 14,
   "metadata": {
    "collapsed": true
   },
   "outputs": [],
   "source": [
    "# Function to clean up datasets, split to feature/repsonse, and divide according to VISCODE \n",
    "def make_XY_sets(dataset, quad = False):\n",
    "    #Create feature & reponse variable datasets split by VISCODE, with total scores removed\n",
    "    all_X = dataset.drop(extract_fields(all_merged.columns, 'hci', True), axis = 1).drop(total_score_names, axis = 1).dropna()\n",
    "    X_06, X_12 = all_X[extract_fields(all_X.columns, '06', False)], all_X[extract_fields(all_X.columns, '12', False)]\n",
    "    X_bl = all_X.drop(X_06.columns, axis = 1).drop(X_12.columns, axis = 1)\n",
    "\n",
    "    #Remove patients who dropped out between baseline and 12 month visits\n",
    "    X_bl, X_06 = X_bl.loc[X_12.index][:],  X_06.loc[X_12.index][:]\n",
    "\n",
    "    #Find response variables for each viscode set, dropping missing HCI values\n",
    "    y_bl, y_06, y_12 = all_merged.loc[X_bl.index][:].hci_bl.dropna(), all_merged.loc[X_06.index][:].hci_m06.dropna(), all_merged.loc[X_12.index][:].hci_m12.dropna() \n",
    "\n",
    "    #Update predictor datasets to only include samples with HCI records\n",
    "    X_bl, X_06, X_12 = X_bl.loc[y_bl.index][:], X_06.loc[y_06.index][:], X_12.loc[y_12.index][:]\n",
    "\n",
    "    return [X_bl, X_06, X_12, y_bl, y_06, y_12]"
   ]
  },
  {
   "cell_type": "code",
   "execution_count": 15,
   "metadata": {
    "collapsed": true
   },
   "outputs": [],
   "source": [
    "#Split to train and test sets\n",
    "train, test = train_test_split(all_merged, test_size = 0.2)\n",
    "X_bl_test, X_06_test, X_12_test, y_bl_test, y_06_test, y_12_test = make_XY_sets(test)\n",
    "X_bl, X_06, X_12, y_bl, y_06, y_12 = make_XY_sets(train)"
   ]
  },
  {
   "cell_type": "markdown",
   "metadata": {},
   "source": [
    "## Attempts to Improve the Baseline Model"
   ]
  },
  {
   "cell_type": "markdown",
   "metadata": {},
   "source": [
    "### Approach 1: \"Most Significant Predictors\"\n",
    "\n",
    "We fit Linear Regression & Random Forest Regressor models to the individual questions on each cognitive test. We fit each test separately and found the most significant predictors on each fit. For the Linear Regression fits, we considered predictors with a p-value of less than 0.03 to be significant (we used a stringent p-value because using less-stringent p-values such as 0.05 resulted in overfitting from too many predictors being selected). For the Random Forest fits, we simply selected the predictor that was considered most-significant in each fit. We ran 100 iterations of this process on different subsets of the training data, and then selected out the predictors that were considered significant in at least 50% of the trials."
   ]
  },
  {
   "cell_type": "code",
   "execution_count": 16,
   "metadata": {
    "collapsed": true
   },
   "outputs": [],
   "source": [
    "#Split up predictors according to test (ADAS, CD, FAQ, GD, HM, MM, or NPI)\n",
    "bl_cols, m06_cols, m12_cols = [], [], []\n",
    "\n",
    "#Add in ADAS columns\n",
    "adas_cols_bl = [x for x in all_merged.columns if re.search(r'hci|cd|faq|gd|mm|RID|hm|npi|06|12|total', x) == None]\n",
    "bl_cols.append(adas_cols_bl)\n",
    "adas_cols_06_temp = [x for x in all_merged.columns if re.search(r'hci|cd|faq|gd|mm|RID|hm|npi|12|total', x) == None]\n",
    "m06_cols.append([x for x in adas_cols_06_temp if x not in adas_cols_bl])\n",
    "adas_cols_12_temp = [x for x in all_merged.columns if re.search(r'hci|cd|faq|gd|mm|RID|hm|npi|06|total', x) == None]\n",
    "m12_cols.append([x for x in adas_cols_12_temp if x not in adas_cols_bl])\n",
    "\n",
    "#Other tests\n",
    "for key in ['cd', 'faq', 'gd', 'hm','mm','npi']:\n",
    "    bl_cols.append(extract_fields(X_bl.columns, key, True))\n",
    "    if key != 'hm':\n",
    "        m12_cols.append(extract_fields(X_12.columns, key, True))\n",
    "        \n",
    "        if key != 'gd':\n",
    "            m06_cols.append(extract_fields(X_06.columns, key, True))\n",
    "        else:\n",
    "            m06_cols.append([])\n",
    "    else:\n",
    "        m12_cols.append([])\n",
    "        m06_cols.append([])"
   ]
  },
  {
   "cell_type": "code",
   "execution_count": 17,
   "metadata": {
    "collapsed": true
   },
   "outputs": [
    {
     "name": "stderr",
     "output_type": "stream",
     "text": [
      "/Applications/anaconda/lib/python3.6/site-packages/statsmodels/base/model.py:1036: RuntimeWarning: invalid value encountered in true_divide\n",
      "  return self.params / self.bse\n",
      "/Applications/anaconda/lib/python3.6/site-packages/scipy/stats/_distn_infrastructure.py:879: RuntimeWarning: invalid value encountered in greater\n",
      "  return (self.a < x) & (x < self.b)\n",
      "/Applications/anaconda/lib/python3.6/site-packages/scipy/stats/_distn_infrastructure.py:879: RuntimeWarning: invalid value encountered in less\n",
      "  return (self.a < x) & (x < self.b)\n",
      "/Applications/anaconda/lib/python3.6/site-packages/scipy/stats/_distn_infrastructure.py:1818: RuntimeWarning: invalid value encountered in less_equal\n",
      "  cond2 = cond0 & (x <= self.a)\n",
      "/Applications/anaconda/lib/python3.6/site-packages/statsmodels/base/model.py:1036: RuntimeWarning: invalid value encountered in true_divide\n",
      "  return self.params / self.bse\n",
      "/Applications/anaconda/lib/python3.6/site-packages/scipy/stats/_distn_infrastructure.py:879: RuntimeWarning: invalid value encountered in greater\n",
      "  return (self.a < x) & (x < self.b)\n",
      "/Applications/anaconda/lib/python3.6/site-packages/scipy/stats/_distn_infrastructure.py:879: RuntimeWarning: invalid value encountered in less\n",
      "  return (self.a < x) & (x < self.b)\n",
      "/Applications/anaconda/lib/python3.6/site-packages/scipy/stats/_distn_infrastructure.py:1818: RuntimeWarning: invalid value encountered in less_equal\n",
      "  cond2 = cond0 & (x <= self.a)\n",
      "/Applications/anaconda/lib/python3.6/site-packages/statsmodels/base/model.py:1036: RuntimeWarning: invalid value encountered in true_divide\n",
      "  return self.params / self.bse\n",
      "/Applications/anaconda/lib/python3.6/site-packages/scipy/stats/_distn_infrastructure.py:879: RuntimeWarning: invalid value encountered in greater\n",
      "  return (self.a < x) & (x < self.b)\n",
      "/Applications/anaconda/lib/python3.6/site-packages/scipy/stats/_distn_infrastructure.py:879: RuntimeWarning: invalid value encountered in less\n",
      "  return (self.a < x) & (x < self.b)\n",
      "/Applications/anaconda/lib/python3.6/site-packages/scipy/stats/_distn_infrastructure.py:1818: RuntimeWarning: invalid value encountered in less_equal\n",
      "  cond2 = cond0 & (x <= self.a)\n",
      "/Applications/anaconda/lib/python3.6/site-packages/statsmodels/base/model.py:1036: RuntimeWarning: invalid value encountered in true_divide\n",
      "  return self.params / self.bse\n",
      "/Applications/anaconda/lib/python3.6/site-packages/scipy/stats/_distn_infrastructure.py:879: RuntimeWarning: invalid value encountered in greater\n",
      "  return (self.a < x) & (x < self.b)\n",
      "/Applications/anaconda/lib/python3.6/site-packages/scipy/stats/_distn_infrastructure.py:879: RuntimeWarning: invalid value encountered in less\n",
      "  return (self.a < x) & (x < self.b)\n",
      "/Applications/anaconda/lib/python3.6/site-packages/scipy/stats/_distn_infrastructure.py:1818: RuntimeWarning: invalid value encountered in less_equal\n",
      "  cond2 = cond0 & (x <= self.a)\n",
      "/Applications/anaconda/lib/python3.6/site-packages/statsmodels/base/model.py:1036: RuntimeWarning: invalid value encountered in true_divide\n",
      "  return self.params / self.bse\n",
      "/Applications/anaconda/lib/python3.6/site-packages/scipy/stats/_distn_infrastructure.py:879: RuntimeWarning: invalid value encountered in greater\n",
      "  return (self.a < x) & (x < self.b)\n",
      "/Applications/anaconda/lib/python3.6/site-packages/scipy/stats/_distn_infrastructure.py:879: RuntimeWarning: invalid value encountered in less\n",
      "  return (self.a < x) & (x < self.b)\n",
      "/Applications/anaconda/lib/python3.6/site-packages/scipy/stats/_distn_infrastructure.py:1818: RuntimeWarning: invalid value encountered in less_equal\n",
      "  cond2 = cond0 & (x <= self.a)\n",
      "/Applications/anaconda/lib/python3.6/site-packages/statsmodels/base/model.py:1036: RuntimeWarning: invalid value encountered in true_divide\n",
      "  return self.params / self.bse\n",
      "/Applications/anaconda/lib/python3.6/site-packages/scipy/stats/_distn_infrastructure.py:879: RuntimeWarning: invalid value encountered in greater\n",
      "  return (self.a < x) & (x < self.b)\n",
      "/Applications/anaconda/lib/python3.6/site-packages/scipy/stats/_distn_infrastructure.py:879: RuntimeWarning: invalid value encountered in less\n",
      "  return (self.a < x) & (x < self.b)\n",
      "/Applications/anaconda/lib/python3.6/site-packages/scipy/stats/_distn_infrastructure.py:1818: RuntimeWarning: invalid value encountered in less_equal\n",
      "  cond2 = cond0 & (x <= self.a)\n",
      "/Applications/anaconda/lib/python3.6/site-packages/statsmodels/base/model.py:1036: RuntimeWarning: invalid value encountered in true_divide\n",
      "  return self.params / self.bse\n",
      "/Applications/anaconda/lib/python3.6/site-packages/scipy/stats/_distn_infrastructure.py:879: RuntimeWarning: invalid value encountered in greater\n",
      "  return (self.a < x) & (x < self.b)\n",
      "/Applications/anaconda/lib/python3.6/site-packages/scipy/stats/_distn_infrastructure.py:879: RuntimeWarning: invalid value encountered in less\n",
      "  return (self.a < x) & (x < self.b)\n",
      "/Applications/anaconda/lib/python3.6/site-packages/scipy/stats/_distn_infrastructure.py:1818: RuntimeWarning: invalid value encountered in less_equal\n",
      "  cond2 = cond0 & (x <= self.a)\n",
      "/Applications/anaconda/lib/python3.6/site-packages/statsmodels/base/model.py:1036: RuntimeWarning: invalid value encountered in true_divide\n",
      "  return self.params / self.bse\n",
      "/Applications/anaconda/lib/python3.6/site-packages/scipy/stats/_distn_infrastructure.py:879: RuntimeWarning: invalid value encountered in greater\n",
      "  return (self.a < x) & (x < self.b)\n",
      "/Applications/anaconda/lib/python3.6/site-packages/scipy/stats/_distn_infrastructure.py:879: RuntimeWarning: invalid value encountered in less\n",
      "  return (self.a < x) & (x < self.b)\n",
      "/Applications/anaconda/lib/python3.6/site-packages/scipy/stats/_distn_infrastructure.py:1818: RuntimeWarning: invalid value encountered in less_equal\n",
      "  cond2 = cond0 & (x <= self.a)\n",
      "/Applications/anaconda/lib/python3.6/site-packages/statsmodels/base/model.py:1036: RuntimeWarning: invalid value encountered in true_divide\n",
      "  return self.params / self.bse\n",
      "/Applications/anaconda/lib/python3.6/site-packages/scipy/stats/_distn_infrastructure.py:879: RuntimeWarning: invalid value encountered in greater\n",
      "  return (self.a < x) & (x < self.b)\n",
      "/Applications/anaconda/lib/python3.6/site-packages/scipy/stats/_distn_infrastructure.py:879: RuntimeWarning: invalid value encountered in less\n",
      "  return (self.a < x) & (x < self.b)\n",
      "/Applications/anaconda/lib/python3.6/site-packages/scipy/stats/_distn_infrastructure.py:1818: RuntimeWarning: invalid value encountered in less_equal\n",
      "  cond2 = cond0 & (x <= self.a)\n",
      "/Applications/anaconda/lib/python3.6/site-packages/statsmodels/base/model.py:1036: RuntimeWarning: invalid value encountered in true_divide\n",
      "  return self.params / self.bse\n",
      "/Applications/anaconda/lib/python3.6/site-packages/scipy/stats/_distn_infrastructure.py:879: RuntimeWarning: invalid value encountered in greater\n",
      "  return (self.a < x) & (x < self.b)\n",
      "/Applications/anaconda/lib/python3.6/site-packages/scipy/stats/_distn_infrastructure.py:879: RuntimeWarning: invalid value encountered in less\n",
      "  return (self.a < x) & (x < self.b)\n",
      "/Applications/anaconda/lib/python3.6/site-packages/scipy/stats/_distn_infrastructure.py:1818: RuntimeWarning: invalid value encountered in less_equal\n",
      "  cond2 = cond0 & (x <= self.a)\n",
      "/Applications/anaconda/lib/python3.6/site-packages/statsmodels/base/model.py:1036: RuntimeWarning: invalid value encountered in true_divide\n",
      "  return self.params / self.bse\n",
      "/Applications/anaconda/lib/python3.6/site-packages/scipy/stats/_distn_infrastructure.py:879: RuntimeWarning: invalid value encountered in greater\n",
      "  return (self.a < x) & (x < self.b)\n",
      "/Applications/anaconda/lib/python3.6/site-packages/scipy/stats/_distn_infrastructure.py:879: RuntimeWarning: invalid value encountered in less\n",
      "  return (self.a < x) & (x < self.b)\n",
      "/Applications/anaconda/lib/python3.6/site-packages/scipy/stats/_distn_infrastructure.py:1818: RuntimeWarning: invalid value encountered in less_equal\n",
      "  cond2 = cond0 & (x <= self.a)\n",
      "/Applications/anaconda/lib/python3.6/site-packages/statsmodels/base/model.py:1036: RuntimeWarning: invalid value encountered in true_divide\n",
      "  return self.params / self.bse\n",
      "/Applications/anaconda/lib/python3.6/site-packages/scipy/stats/_distn_infrastructure.py:879: RuntimeWarning: invalid value encountered in greater\n",
      "  return (self.a < x) & (x < self.b)\n",
      "/Applications/anaconda/lib/python3.6/site-packages/scipy/stats/_distn_infrastructure.py:879: RuntimeWarning: invalid value encountered in less\n",
      "  return (self.a < x) & (x < self.b)\n",
      "/Applications/anaconda/lib/python3.6/site-packages/scipy/stats/_distn_infrastructure.py:1818: RuntimeWarning: invalid value encountered in less_equal\n",
      "  cond2 = cond0 & (x <= self.a)\n"
     ]
    },
    {
     "name": "stderr",
     "output_type": "stream",
     "text": [
      "/Applications/anaconda/lib/python3.6/site-packages/statsmodels/base/model.py:1036: RuntimeWarning: invalid value encountered in true_divide\n",
      "  return self.params / self.bse\n",
      "/Applications/anaconda/lib/python3.6/site-packages/scipy/stats/_distn_infrastructure.py:879: RuntimeWarning: invalid value encountered in greater\n",
      "  return (self.a < x) & (x < self.b)\n",
      "/Applications/anaconda/lib/python3.6/site-packages/scipy/stats/_distn_infrastructure.py:879: RuntimeWarning: invalid value encountered in less\n",
      "  return (self.a < x) & (x < self.b)\n",
      "/Applications/anaconda/lib/python3.6/site-packages/scipy/stats/_distn_infrastructure.py:1818: RuntimeWarning: invalid value encountered in less_equal\n",
      "  cond2 = cond0 & (x <= self.a)\n",
      "/Applications/anaconda/lib/python3.6/site-packages/statsmodels/base/model.py:1036: RuntimeWarning: invalid value encountered in true_divide\n",
      "  return self.params / self.bse\n",
      "/Applications/anaconda/lib/python3.6/site-packages/scipy/stats/_distn_infrastructure.py:879: RuntimeWarning: invalid value encountered in greater\n",
      "  return (self.a < x) & (x < self.b)\n",
      "/Applications/anaconda/lib/python3.6/site-packages/scipy/stats/_distn_infrastructure.py:879: RuntimeWarning: invalid value encountered in less\n",
      "  return (self.a < x) & (x < self.b)\n",
      "/Applications/anaconda/lib/python3.6/site-packages/scipy/stats/_distn_infrastructure.py:1818: RuntimeWarning: invalid value encountered in less_equal\n",
      "  cond2 = cond0 & (x <= self.a)\n",
      "/Applications/anaconda/lib/python3.6/site-packages/statsmodels/base/model.py:1036: RuntimeWarning: invalid value encountered in true_divide\n",
      "  return self.params / self.bse\n",
      "/Applications/anaconda/lib/python3.6/site-packages/scipy/stats/_distn_infrastructure.py:879: RuntimeWarning: invalid value encountered in greater\n",
      "  return (self.a < x) & (x < self.b)\n",
      "/Applications/anaconda/lib/python3.6/site-packages/scipy/stats/_distn_infrastructure.py:879: RuntimeWarning: invalid value encountered in less\n",
      "  return (self.a < x) & (x < self.b)\n",
      "/Applications/anaconda/lib/python3.6/site-packages/scipy/stats/_distn_infrastructure.py:1818: RuntimeWarning: invalid value encountered in less_equal\n",
      "  cond2 = cond0 & (x <= self.a)\n",
      "/Applications/anaconda/lib/python3.6/site-packages/statsmodels/base/model.py:1036: RuntimeWarning: invalid value encountered in true_divide\n",
      "  return self.params / self.bse\n",
      "/Applications/anaconda/lib/python3.6/site-packages/scipy/stats/_distn_infrastructure.py:879: RuntimeWarning: invalid value encountered in greater\n",
      "  return (self.a < x) & (x < self.b)\n",
      "/Applications/anaconda/lib/python3.6/site-packages/scipy/stats/_distn_infrastructure.py:879: RuntimeWarning: invalid value encountered in less\n",
      "  return (self.a < x) & (x < self.b)\n",
      "/Applications/anaconda/lib/python3.6/site-packages/scipy/stats/_distn_infrastructure.py:1818: RuntimeWarning: invalid value encountered in less_equal\n",
      "  cond2 = cond0 & (x <= self.a)\n",
      "/Applications/anaconda/lib/python3.6/site-packages/statsmodels/base/model.py:1036: RuntimeWarning: invalid value encountered in true_divide\n",
      "  return self.params / self.bse\n",
      "/Applications/anaconda/lib/python3.6/site-packages/scipy/stats/_distn_infrastructure.py:879: RuntimeWarning: invalid value encountered in greater\n",
      "  return (self.a < x) & (x < self.b)\n",
      "/Applications/anaconda/lib/python3.6/site-packages/scipy/stats/_distn_infrastructure.py:879: RuntimeWarning: invalid value encountered in less\n",
      "  return (self.a < x) & (x < self.b)\n",
      "/Applications/anaconda/lib/python3.6/site-packages/scipy/stats/_distn_infrastructure.py:1818: RuntimeWarning: invalid value encountered in less_equal\n",
      "  cond2 = cond0 & (x <= self.a)\n",
      "/Applications/anaconda/lib/python3.6/site-packages/statsmodels/base/model.py:1036: RuntimeWarning: invalid value encountered in true_divide\n",
      "  return self.params / self.bse\n",
      "/Applications/anaconda/lib/python3.6/site-packages/scipy/stats/_distn_infrastructure.py:879: RuntimeWarning: invalid value encountered in greater\n",
      "  return (self.a < x) & (x < self.b)\n",
      "/Applications/anaconda/lib/python3.6/site-packages/scipy/stats/_distn_infrastructure.py:879: RuntimeWarning: invalid value encountered in less\n",
      "  return (self.a < x) & (x < self.b)\n",
      "/Applications/anaconda/lib/python3.6/site-packages/scipy/stats/_distn_infrastructure.py:1818: RuntimeWarning: invalid value encountered in less_equal\n",
      "  cond2 = cond0 & (x <= self.a)\n",
      "/Applications/anaconda/lib/python3.6/site-packages/statsmodels/base/model.py:1036: RuntimeWarning: invalid value encountered in true_divide\n",
      "  return self.params / self.bse\n",
      "/Applications/anaconda/lib/python3.6/site-packages/scipy/stats/_distn_infrastructure.py:879: RuntimeWarning: invalid value encountered in greater\n",
      "  return (self.a < x) & (x < self.b)\n",
      "/Applications/anaconda/lib/python3.6/site-packages/scipy/stats/_distn_infrastructure.py:879: RuntimeWarning: invalid value encountered in less\n",
      "  return (self.a < x) & (x < self.b)\n",
      "/Applications/anaconda/lib/python3.6/site-packages/scipy/stats/_distn_infrastructure.py:1818: RuntimeWarning: invalid value encountered in less_equal\n",
      "  cond2 = cond0 & (x <= self.a)\n",
      "/Applications/anaconda/lib/python3.6/site-packages/statsmodels/base/model.py:1036: RuntimeWarning: invalid value encountered in true_divide\n",
      "  return self.params / self.bse\n",
      "/Applications/anaconda/lib/python3.6/site-packages/scipy/stats/_distn_infrastructure.py:879: RuntimeWarning: invalid value encountered in greater\n",
      "  return (self.a < x) & (x < self.b)\n",
      "/Applications/anaconda/lib/python3.6/site-packages/scipy/stats/_distn_infrastructure.py:879: RuntimeWarning: invalid value encountered in less\n",
      "  return (self.a < x) & (x < self.b)\n",
      "/Applications/anaconda/lib/python3.6/site-packages/scipy/stats/_distn_infrastructure.py:1818: RuntimeWarning: invalid value encountered in less_equal\n",
      "  cond2 = cond0 & (x <= self.a)\n",
      "/Applications/anaconda/lib/python3.6/site-packages/statsmodels/base/model.py:1036: RuntimeWarning: invalid value encountered in true_divide\n",
      "  return self.params / self.bse\n",
      "/Applications/anaconda/lib/python3.6/site-packages/scipy/stats/_distn_infrastructure.py:879: RuntimeWarning: invalid value encountered in greater\n",
      "  return (self.a < x) & (x < self.b)\n",
      "/Applications/anaconda/lib/python3.6/site-packages/scipy/stats/_distn_infrastructure.py:879: RuntimeWarning: invalid value encountered in less\n",
      "  return (self.a < x) & (x < self.b)\n",
      "/Applications/anaconda/lib/python3.6/site-packages/scipy/stats/_distn_infrastructure.py:1818: RuntimeWarning: invalid value encountered in less_equal\n",
      "  cond2 = cond0 & (x <= self.a)\n"
     ]
    }
   ],
   "source": [
    "#Storage for sets of significant predictors \n",
    "all_signifs_lin, all_signifs_rf = [], []\n",
    "\n",
    "#Initialize RF model\n",
    "rf = RandomForestRegressor()\n",
    "\n",
    "#Set number of iterations for sub-set model fitting\n",
    "iters = 100\n",
    "\n",
    "for j in range(iters):\n",
    "    #Make new subset of training set for each model fit\n",
    "    sub_train, sub_test = train_test_split(train, test_size = 0.2)\n",
    "    X_bl, X_06, X_12, y_bl, y_06, y_12 = make_XY_sets(sub_train)\n",
    "    \n",
    "    #Re-structure storage for viscode data subsets\n",
    "    vis_cols = [bl_cols, m06_cols, m12_cols]\n",
    "    X_sets, y_sets = [X_bl, X_06, X_12], [y_bl, y_06, y_12]\n",
    "\n",
    "    signif_preds_lin, signif_preds_rf = [], []\n",
    "    \n",
    "    #For each viscode:\n",
    "    for i in range(3):\n",
    "        \n",
    "        #Get the X & y datasets\n",
    "        vis, X, y = vis_cols[i], X_sets[i], y_sets[i]\n",
    "        vis_preds_lin, vis_preds_rf = [], []\n",
    "        \n",
    "        #For each list of predictors, fit model and record the significant predictors\n",
    "        for col_list in vis:\n",
    "            X2 = X.loc[:][col_list]\n",
    "\n",
    "            if len(col_list) != 0:      \n",
    "                #Find significant predictors in linear fit\n",
    "                est = sm.OLS(y, sm.add_constant(X2))\n",
    "                est2 = est.fit()\n",
    "                signifs = est2.params[est2.pvalues < 0.03].index.values\n",
    "                for i in signifs:\n",
    "                    if i != 'const':\n",
    "                        vis_preds_lin.append(i)\n",
    "                \n",
    "                #Find the most significant predictor from rf fit\n",
    "                fit = rf.fit(X2, y)\n",
    "                signifs_rf = fit.feature_importances_.reshape(-1,1)\n",
    "                debug_ser = pd.DataFrame(signifs_rf, index = col_list, columns = [\"imp\"])\n",
    "                most_imp = debug_ser.sort_values('imp', ascending = False).index[0]\n",
    "                vis_preds_rf.append(most_imp)\n",
    "            \n",
    "        #Add each significant predictor to a list\n",
    "        signif_preds_lin.append(vis_preds_lin)\n",
    "        signif_preds_rf.append(vis_preds_rf)\n",
    "        \n",
    "    #Add list of significant predictors for each viscode to the larger storage list\n",
    "    all_signifs_lin.append(signif_preds_lin)\n",
    "    all_signifs_rf.append(signif_preds_rf)\n",
    "    \n",
    "#Restructure data storage structures\n",
    "all_signifs_lin_df = pd.DataFrame(all_signifs_lin, columns = ['BL', 'm06', 'm12'])\n",
    "all_signifs_rf_df = pd.DataFrame(all_signifs_rf, columns = ['BL', 'm06', 'm12'])"
   ]
  },
  {
   "cell_type": "code",
   "execution_count": 18,
   "metadata": {
    "collapsed": true
   },
   "outputs": [],
   "source": [
    "#Extract higly recurring (in >50% of iterations) significant predictors for each model\n",
    "\n",
    "#Storage structures for most-recurring predictors\n",
    "vis_sigs_lin, vis_sigs_rf = [], []\n",
    "\n",
    "#For each viscode:\n",
    "for vis in ['BL', 'm06', 'm12']:\n",
    "    shared_lin, shared_rf = [], []\n",
    "\n",
    "    #Add every significant predictor from each round to a single list\n",
    "    for pred_list in all_signifs_lin_df.loc[:][vis]:\n",
    "        for pred in pred_list:\n",
    "            shared_lin.append(pred)\n",
    "    for pred_list in all_signifs_rf_df.loc[:][vis]:\n",
    "        for pred in pred_list:\n",
    "            shared_rf.append(pred)\n",
    "    #Count the number of times each predictor was selected\n",
    "    shared2_lin, shared2_rf = pd.Series(shared_lin), pd.Series(shared_rf)\n",
    "    uniq_preds_lin, uniq_preds_rf = shared2_lin.unique(), shared2_rf.unique()\n",
    "    \n",
    "    #Extract the predictors that were significant in at least half of the model fit iterations\n",
    "    sigs_lin = shared2_lin.value_counts().index[shared2_lin.value_counts() > iters/2]\n",
    "    sigs_rf = shared2_rf.value_counts().index[shared2_rf.value_counts() > iters/2]\n",
    "    \n",
    "    #Add to storage structure\n",
    "    vis_sigs_lin.append(sigs_lin.tolist())\n",
    "    vis_sigs_rf.append(sigs_rf.tolist())"
   ]
  },
  {
   "cell_type": "code",
   "execution_count": 19,
   "metadata": {
    "collapsed": true
   },
   "outputs": [],
   "source": [
    "#Create new datasets using only the most signficant predictors\n",
    "\n",
    "#Linear Fit Significant Dataset\n",
    "X_bl_sig_lin, X_06_sig_lin, X_12_sig_lin = X_bl.loc[:][vis_sigs_lin[0]], X_06.loc[:][vis_sigs_lin[1]], X_12.loc[:][vis_sigs_lin[2]]\n",
    "X_sigs_lin = [X_bl_sig_lin, X_06_sig_lin, X_12_sig_lin]\n",
    "\n",
    "#Random Forest Fit Significant Dataset\n",
    "X_bl_rf, X_06_rf, X_12_rf = X_bl.loc[:][vis_sigs_rf[0]], X_06.loc[:][vis_sigs_rf[1]], X_12.loc[:][vis_sigs_rf[2]]\n",
    "X_rfs = [X_bl_rf, X_06_rf, X_12_rf]\n",
    "\n",
    "#Associated Test Sets\n",
    "X_sigs_lin_test = [X_bl_test.loc[:][vis_sigs_lin[0]], X_06_test.loc[:][vis_sigs_lin[1]], X_12_test.loc[:][vis_sigs_lin[2]]]\n",
    "X_rf_test = [X_bl_test.loc[:][vis_sigs_rf[0]], X_06_test.loc[:][vis_sigs_rf[1]], X_12_test.loc[:][vis_sigs_rf[2]]]\n",
    "y_sets_test = [y_bl_test, y_06_test, y_12_test]"
   ]
  },
  {
   "cell_type": "code",
   "execution_count": 20,
   "metadata": {
    "collapsed": true
   },
   "outputs": [],
   "source": [
    "#Fit selected Linear predictors on full train and full test sets, calculate R2 scores \n",
    "regr = LinearRegression()\n",
    "\n",
    "#Initialize lists to store scores\n",
    "train_scores = []\n",
    "test_scores = []\n",
    "\n",
    "#Calculate and append scores to lists\n",
    "for i in range(3):\n",
    "    regr.fit(X_sigs_lin[i], y_sets[i])\n",
    "    train_scores.append(regr.score(X_sigs_lin[i], y_sets[i]))\n",
    "    test_scores.append(regr.score(X_sigs_lin_test[i], y_sets_test[i]))\n",
    "\n",
    "#Restructure storage of R2 scores\n",
    "lin_signif_records = pd.DataFrame([train_scores, test_scores], index = ['Train', 'Test'], columns = ['BL', '6M', '12M']).T"
   ]
  },
  {
   "cell_type": "code",
   "execution_count": 21,
   "metadata": {
    "collapsed": true
   },
   "outputs": [],
   "source": [
    "#Fit selected RF predictors on full train and full test sets, calculate R2 scores \n",
    "\n",
    "#Initialize lists to store scores\n",
    "rf_train_scores = []\n",
    "rf_test_scores = []\n",
    "\n",
    "#Calculate and append scores to lists\n",
    "for i in range(3):\n",
    "    fit = rf.fit(X_rfs[i], y_sets[i])\n",
    "    rf_train_scores.append(fit.score(X_rfs[i], y_sets[i]))\n",
    "    rf_test_scores.append(fit.score(X_rf_test[i], y_sets_test[i]))\n",
    "\n",
    "#Restructure storage of R2 scores\n",
    "rf_signif_records = pd.DataFrame([rf_train_scores, rf_test_scores], index = ['Train', 'Test'], columns = ['BL', '6M', '12M']).T"
   ]
  },
  {
   "cell_type": "code",
   "execution_count": 22,
   "metadata": {},
   "outputs": [
    {
     "data": {
      "text/html": [
       "<div>\n",
       "<style>\n",
       "    .dataframe thead tr:only-child th {\n",
       "        text-align: right;\n",
       "    }\n",
       "\n",
       "    .dataframe thead th {\n",
       "        text-align: left;\n",
       "    }\n",
       "\n",
       "    .dataframe tbody tr th {\n",
       "        vertical-align: top;\n",
       "    }\n",
       "</style>\n",
       "<table border=\"1\" class=\"dataframe\">\n",
       "  <thead>\n",
       "    <tr style=\"text-align: right;\">\n",
       "      <th></th>\n",
       "      <th>Train</th>\n",
       "      <th>Test</th>\n",
       "    </tr>\n",
       "  </thead>\n",
       "  <tbody>\n",
       "    <tr>\n",
       "      <th>BL</th>\n",
       "      <td>0.555438</td>\n",
       "      <td>-0.001134</td>\n",
       "    </tr>\n",
       "    <tr>\n",
       "      <th>6M</th>\n",
       "      <td>0.450924</td>\n",
       "      <td>0.522852</td>\n",
       "    </tr>\n",
       "    <tr>\n",
       "      <th>12M</th>\n",
       "      <td>0.631418</td>\n",
       "      <td>0.378470</td>\n",
       "    </tr>\n",
       "  </tbody>\n",
       "</table>\n",
       "</div>"
      ],
      "text/plain": [
       "        Train      Test\n",
       "BL   0.555438 -0.001134\n",
       "6M   0.450924  0.522852\n",
       "12M  0.631418  0.378470"
      ]
     },
     "execution_count": 22,
     "metadata": {},
     "output_type": "execute_result"
    }
   ],
   "source": [
    "#Print results of linear fit\n",
    "lin_signif_records"
   ]
  },
  {
   "cell_type": "code",
   "execution_count": 23,
   "metadata": {},
   "outputs": [
    {
     "data": {
      "text/html": [
       "<div>\n",
       "<style>\n",
       "    .dataframe thead tr:only-child th {\n",
       "        text-align: right;\n",
       "    }\n",
       "\n",
       "    .dataframe thead th {\n",
       "        text-align: left;\n",
       "    }\n",
       "\n",
       "    .dataframe tbody tr th {\n",
       "        vertical-align: top;\n",
       "    }\n",
       "</style>\n",
       "<table border=\"1\" class=\"dataframe\">\n",
       "  <thead>\n",
       "    <tr style=\"text-align: right;\">\n",
       "      <th></th>\n",
       "      <th>Train</th>\n",
       "      <th>Test</th>\n",
       "    </tr>\n",
       "  </thead>\n",
       "  <tbody>\n",
       "    <tr>\n",
       "      <th>BL</th>\n",
       "      <td>0.668476</td>\n",
       "      <td>0.194630</td>\n",
       "    </tr>\n",
       "    <tr>\n",
       "      <th>6M</th>\n",
       "      <td>0.718225</td>\n",
       "      <td>0.367173</td>\n",
       "    </tr>\n",
       "    <tr>\n",
       "      <th>12M</th>\n",
       "      <td>0.819802</td>\n",
       "      <td>0.358399</td>\n",
       "    </tr>\n",
       "  </tbody>\n",
       "</table>\n",
       "</div>"
      ],
      "text/plain": [
       "        Train      Test\n",
       "BL   0.668476  0.194630\n",
       "6M   0.718225  0.367173\n",
       "12M  0.819802  0.358399"
      ]
     },
     "execution_count": 23,
     "metadata": {},
     "output_type": "execute_result"
    }
   ],
   "source": [
    "#Print results of RF fit\n",
    "rf_signif_records"
   ]
  },
  {
   "cell_type": "markdown",
   "metadata": {},
   "source": [
    "### Approach 2: Step-Forward Variable Selection\n",
    "\n",
    "Here we used a step-forward variable selection approach. For the Linear Regression models, we used the BIC as the criterion for whether or not adding a feature improved the model; for Random Forest, we used the R2 score as the criterion. "
   ]
  },
  {
   "cell_type": "markdown",
   "metadata": {},
   "source": [
    "#### Approach 2A: Step Forward Selection for Linear Regression"
   ]
  },
  {
   "cell_type": "code",
   "execution_count": 24,
   "metadata": {
    "collapsed": true
   },
   "outputs": [],
   "source": [
    "#STEP-WISE FORWARD SELECTION WITH OLS\n",
    "selected_preds_lin = []\n",
    "\n",
    "for k in range(3):\n",
    "    #Create a list of all predictor variables\n",
    "    all_preds = X_sets[k].columns.tolist()\n",
    "\n",
    "    #Start with an empty set of model predictors\n",
    "    predictors_fw = []\n",
    "\n",
    "    #Initialize the list holding the best BIC scores\n",
    "    best_score = [10e6,0]\n",
    "\n",
    "    #Initialize the boolean tracking whether or not better solutions are still being found\n",
    "    atEnd = False\n",
    "\n",
    "    #Loop over \n",
    "    while atEnd == False:\n",
    "        #track whether or not better solutions are still being found\n",
    "        tracker = 0\n",
    "\n",
    "        for i in range(0, len(all_preds)):\n",
    "            #Add the predictor to the predictor set\n",
    "            predictors_fw.append(all_preds[i])\n",
    "\n",
    "            #Fit a model to the current predictor set\n",
    "            trn_regr = sm.OLS(y_sets[k], X_sets[k].loc[:][predictors_fw]).fit()\n",
    "\n",
    "            #Compute the BIC\n",
    "            bic_temp = trn_regr.bic\n",
    "\n",
    "            #If this BIC is better than the best BIC so far, store the predictor and its associated BIC in best_score\n",
    "            if (bic_temp < best_score[0]):\n",
    "                best_score[0] = bic_temp\n",
    "                best_score[1] = all_preds[i]\n",
    "                tracker += 1\n",
    "\n",
    "            #Remove the tested predictor for the next loop\n",
    "            predictors_fw.remove(all_preds[i])\n",
    "\n",
    "        if tracker == 0:\n",
    "            atEnd = True\n",
    "        else:\n",
    "            #Add the best predictor to the predictors set for all future loops\n",
    "            predictors_fw.append(best_score[1])\n",
    "\n",
    "            #Remove it from the all_preds set\n",
    "            all_preds.remove(best_score[1])\n",
    "    selected_preds_lin.append(predictors_fw)\n",
    "        "
   ]
  },
  {
   "cell_type": "code",
   "execution_count": 25,
   "metadata": {
    "collapsed": true
   },
   "outputs": [],
   "source": [
    "regr = LinearRegression()\n",
    "\n",
    "#Initialize R2 Score storage structures\n",
    "step_lin_train_scores = []\n",
    "step_lin_test_scores = []\n",
    "\n",
    "#Create train & test datasets per VISCODE with selected predictors\n",
    "X_sigs_lin_step = [X_bl.loc[:][selected_preds_lin[0]], \n",
    "               X_06.loc[:][selected_preds_lin[1]],\n",
    "               X_12.loc[:][selected_preds_lin[2]]]\n",
    "\n",
    "X_sigs_step_lin_test = [X_bl_test.loc[:][selected_preds_lin[0]], \n",
    "                    X_06_test.loc[:][selected_preds_lin[1]], \n",
    "                    X_12_test.loc[:][selected_preds_lin[2]]]\n",
    "\n",
    "#Get R2 Scores on Train and Test sets\n",
    "for i in range(3):\n",
    "    regr.fit(X_sigs_lin_step[i], y_sets[i])\n",
    "    step_lin_train_scores.append(regr.score(X_sigs_lin_step[i], y_sets[i]))\n",
    "    step_lin_test_scores.append(regr.score(X_sigs_step_lin_test[i], y_sets_test[i]))\n",
    "\n",
    "#Restructure score storage structure\n",
    "step_lin_records = pd.DataFrame([step_lin_train_scores, step_lin_test_scores], index = ['Train', 'Test'], columns = ['BL', '6M', '12M']).T"
   ]
  },
  {
   "cell_type": "code",
   "execution_count": 26,
   "metadata": {},
   "outputs": [
    {
     "data": {
      "text/html": [
       "<div>\n",
       "<style>\n",
       "    .dataframe thead tr:only-child th {\n",
       "        text-align: right;\n",
       "    }\n",
       "\n",
       "    .dataframe thead th {\n",
       "        text-align: left;\n",
       "    }\n",
       "\n",
       "    .dataframe tbody tr th {\n",
       "        vertical-align: top;\n",
       "    }\n",
       "</style>\n",
       "<table border=\"1\" class=\"dataframe\">\n",
       "  <thead>\n",
       "    <tr style=\"text-align: right;\">\n",
       "      <th></th>\n",
       "      <th>Train</th>\n",
       "      <th>Test</th>\n",
       "    </tr>\n",
       "  </thead>\n",
       "  <tbody>\n",
       "    <tr>\n",
       "      <th>BL</th>\n",
       "      <td>0.495092</td>\n",
       "      <td>0.089557</td>\n",
       "    </tr>\n",
       "    <tr>\n",
       "      <th>6M</th>\n",
       "      <td>0.563306</td>\n",
       "      <td>0.376531</td>\n",
       "    </tr>\n",
       "    <tr>\n",
       "      <th>12M</th>\n",
       "      <td>0.721160</td>\n",
       "      <td>0.276239</td>\n",
       "    </tr>\n",
       "  </tbody>\n",
       "</table>\n",
       "</div>"
      ],
      "text/plain": [
       "        Train      Test\n",
       "BL   0.495092  0.089557\n",
       "6M   0.563306  0.376531\n",
       "12M  0.721160  0.276239"
      ]
     },
     "execution_count": 26,
     "metadata": {},
     "output_type": "execute_result"
    }
   ],
   "source": [
    "#Print results of step forward linear model selection\n",
    "step_lin_records"
   ]
  },
  {
   "cell_type": "markdown",
   "metadata": {},
   "source": [
    "#### Approach 2B: Step Forward Selection for Random Forest Regression"
   ]
  },
  {
   "cell_type": "code",
   "execution_count": 27,
   "metadata": {
    "collapsed": true
   },
   "outputs": [],
   "source": [
    "#STEP-WISE FORWARD SELECTION WITH Random Forest\n",
    "selected_preds_rf = []\n",
    "\n",
    "for k in range(3):\n",
    "    #Create a list of all predictor variables\n",
    "    all_preds = X_sets[k].columns.tolist()\n",
    "    if 'RID' in all_preds:\n",
    "        all_preds.remove('RID')\n",
    "\n",
    "    #Start with an empty set of model predictors\n",
    "    predictors_fw = []\n",
    "\n",
    "    #Initialize the list holding the best R2 scores\n",
    "    best_score = [0,0]\n",
    "\n",
    "    #Initialize the boolean tracking whether or not better solutions are still being found\n",
    "    atEnd = False\n",
    "\n",
    "    #Loop over \n",
    "    while atEnd == False:\n",
    "        #track whether or not better solutions are still being found\n",
    "        tracker = 0\n",
    "\n",
    "        for i in range(0, len(all_preds)):\n",
    "            #Add the predictor to the predictor set\n",
    "            predictors_fw.append(all_preds[i])\n",
    "\n",
    "            #Fit a model to the current predictor set\n",
    "            fit = rf.fit(X_sets[k].loc[:][predictors_fw], y_sets[k])\n",
    "\n",
    "            #Compute the BIC\n",
    "            temp_score = fit.score(X_sets[k].loc[:][predictors_fw], y_sets[k])\n",
    "            \n",
    "            #If this BIC is better than the best BIC so far, store the predictor and its associated BIC in best_score\n",
    "            if (temp_score > best_score[0]):\n",
    "                best_score[0] = temp_score\n",
    "                best_score[1] = all_preds[i]\n",
    "                tracker += 1\n",
    "\n",
    "            #Remove the tested predictor for the next loop\n",
    "            predictors_fw.remove(all_preds[i])\n",
    "\n",
    "        if tracker == 0:\n",
    "            atEnd = True\n",
    "        else:\n",
    "            #Add the best predictor to the predictors set for all future loops\n",
    "            predictors_fw.append(best_score[1])\n",
    "\n",
    "            #Remove it from the all_preds set\n",
    "            all_preds.remove(best_score[1])\n",
    "            \n",
    "    selected_preds_rf.append(predictors_fw)\n",
    "        "
   ]
  },
  {
   "cell_type": "code",
   "execution_count": 28,
   "metadata": {
    "collapsed": true
   },
   "outputs": [],
   "source": [
    "#Get Scores from Step RF Model\n",
    "\n",
    "#Initialize R2 Score storage structures\n",
    "step_rf_train_scores = []\n",
    "step_rf_test_scores = []\n",
    "\n",
    "#Create train & test datasets per VISCODE with selected predictors\n",
    "X_sigs_step_rf = [X_bl.loc[:][selected_preds_rf[0]], \n",
    "               X_06.loc[:][selected_preds_rf[1]],\n",
    "               X_12.loc[:][selected_preds_rf[2]]]\n",
    "\n",
    "X_sigs_step_rf_test = [X_bl_test.loc[:][selected_preds_rf[0]], \n",
    "                    X_06_test.loc[:][selected_preds_rf[1]], \n",
    "                    X_12_test.loc[:][selected_preds_rf[2]]]\n",
    "\n",
    "#Get R2 Scores on Train and Test sets\n",
    "for i in range(3):\n",
    "    rf.fit(X_sigs_step_rf[i], y_sets[i])\n",
    "    step_rf_train_scores.append(rf.score(X_sigs_step_rf[i], y_sets[i]))\n",
    "    step_rf_test_scores.append(rf.score(X_sigs_step_rf_test[i], y_sets_test[i]))\n",
    "\n",
    "#Restructure score storage structure\n",
    "step_rf_records = pd.DataFrame([step_rf_train_scores, step_rf_test_scores], index = ['Train', 'Test'], columns = ['BL', '6M', '12M']).T"
   ]
  },
  {
   "cell_type": "code",
   "execution_count": 29,
   "metadata": {},
   "outputs": [
    {
     "data": {
      "text/html": [
       "<div>\n",
       "<style>\n",
       "    .dataframe thead tr:only-child th {\n",
       "        text-align: right;\n",
       "    }\n",
       "\n",
       "    .dataframe thead th {\n",
       "        text-align: left;\n",
       "    }\n",
       "\n",
       "    .dataframe tbody tr th {\n",
       "        vertical-align: top;\n",
       "    }\n",
       "</style>\n",
       "<table border=\"1\" class=\"dataframe\">\n",
       "  <thead>\n",
       "    <tr style=\"text-align: right;\">\n",
       "      <th></th>\n",
       "      <th>Train</th>\n",
       "      <th>Test</th>\n",
       "    </tr>\n",
       "  </thead>\n",
       "  <tbody>\n",
       "    <tr>\n",
       "      <th>BL</th>\n",
       "      <td>0.838665</td>\n",
       "      <td>0.037376</td>\n",
       "    </tr>\n",
       "    <tr>\n",
       "      <th>6M</th>\n",
       "      <td>0.898704</td>\n",
       "      <td>0.585557</td>\n",
       "    </tr>\n",
       "    <tr>\n",
       "      <th>12M</th>\n",
       "      <td>0.869852</td>\n",
       "      <td>0.380147</td>\n",
       "    </tr>\n",
       "  </tbody>\n",
       "</table>\n",
       "</div>"
      ],
      "text/plain": [
       "        Train      Test\n",
       "BL   0.838665  0.037376\n",
       "6M   0.898704  0.585557\n",
       "12M  0.869852  0.380147"
      ]
     },
     "execution_count": 29,
     "metadata": {},
     "output_type": "execute_result"
    }
   ],
   "source": [
    "#Print results from Step Forward RF\n",
    "step_rf_records"
   ]
  },
  {
   "cell_type": "markdown",
   "metadata": {},
   "source": [
    "# COMPARING RESULTS & MAKING CONCLUSIONS"
   ]
  },
  {
   "cell_type": "code",
   "execution_count": 58,
   "metadata": {},
   "outputs": [
    {
     "data": {
      "text/html": [
       "<div>\n",
       "<style>\n",
       "    .dataframe thead tr:only-child th {\n",
       "        text-align: right;\n",
       "    }\n",
       "\n",
       "    .dataframe thead th {\n",
       "        text-align: left;\n",
       "    }\n",
       "\n",
       "    .dataframe tbody tr th {\n",
       "        vertical-align: top;\n",
       "    }\n",
       "</style>\n",
       "<table border=\"1\" class=\"dataframe\">\n",
       "  <thead>\n",
       "    <tr style=\"text-align: right;\">\n",
       "      <th></th>\n",
       "      <th>Train</th>\n",
       "      <th>Test</th>\n",
       "    </tr>\n",
       "  </thead>\n",
       "  <tbody>\n",
       "    <tr>\n",
       "      <th>BL</th>\n",
       "      <td>0.838665</td>\n",
       "      <td>0.037376</td>\n",
       "    </tr>\n",
       "    <tr>\n",
       "      <th>6M</th>\n",
       "      <td>0.898704</td>\n",
       "      <td>0.585557</td>\n",
       "    </tr>\n",
       "    <tr>\n",
       "      <th>12M</th>\n",
       "      <td>0.869852</td>\n",
       "      <td>0.380147</td>\n",
       "    </tr>\n",
       "  </tbody>\n",
       "</table>\n",
       "</div>"
      ],
      "text/plain": [
       "        Train      Test\n",
       "BL   0.838665  0.037376\n",
       "6M   0.898704  0.585557\n",
       "12M  0.869852  0.380147"
      ]
     },
     "execution_count": 58,
     "metadata": {},
     "output_type": "execute_result"
    }
   ],
   "source": [
    "step_rf_records"
   ]
  },
  {
   "cell_type": "code",
   "execution_count": 60,
   "metadata": {},
   "outputs": [
    {
     "data": {
      "text/html": [
       "<div>\n",
       "<style>\n",
       "    .dataframe thead tr:only-child th {\n",
       "        text-align: right;\n",
       "    }\n",
       "\n",
       "    .dataframe thead th {\n",
       "        text-align: left;\n",
       "    }\n",
       "\n",
       "    .dataframe tbody tr th {\n",
       "        vertical-align: top;\n",
       "    }\n",
       "</style>\n",
       "<table border=\"1\" class=\"dataframe\">\n",
       "  <thead>\n",
       "    <tr style=\"text-align: right;\">\n",
       "      <th></th>\n",
       "      <th>Train</th>\n",
       "      <th>Test</th>\n",
       "    </tr>\n",
       "  </thead>\n",
       "  <tbody>\n",
       "    <tr>\n",
       "      <th>BL</th>\n",
       "      <td>0.495092</td>\n",
       "      <td>0.089557</td>\n",
       "    </tr>\n",
       "    <tr>\n",
       "      <th>6M</th>\n",
       "      <td>0.563306</td>\n",
       "      <td>0.376531</td>\n",
       "    </tr>\n",
       "    <tr>\n",
       "      <th>12M</th>\n",
       "      <td>0.721160</td>\n",
       "      <td>0.276239</td>\n",
       "    </tr>\n",
       "  </tbody>\n",
       "</table>\n",
       "</div>"
      ],
      "text/plain": [
       "        Train      Test\n",
       "BL   0.495092  0.089557\n",
       "6M   0.563306  0.376531\n",
       "12M  0.721160  0.276239"
      ]
     },
     "execution_count": 60,
     "metadata": {},
     "output_type": "execute_result"
    }
   ],
   "source": [
    "step_lin_records"
   ]
  },
  {
   "cell_type": "code",
   "execution_count": 61,
   "metadata": {},
   "outputs": [
    {
     "data": {
      "text/html": [
       "<div>\n",
       "<style>\n",
       "    .dataframe thead tr:only-child th {\n",
       "        text-align: right;\n",
       "    }\n",
       "\n",
       "    .dataframe thead th {\n",
       "        text-align: left;\n",
       "    }\n",
       "\n",
       "    .dataframe tbody tr th {\n",
       "        vertical-align: top;\n",
       "    }\n",
       "</style>\n",
       "<table border=\"1\" class=\"dataframe\">\n",
       "  <thead>\n",
       "    <tr style=\"text-align: right;\">\n",
       "      <th></th>\n",
       "      <th>Train</th>\n",
       "      <th>Test</th>\n",
       "    </tr>\n",
       "  </thead>\n",
       "  <tbody>\n",
       "    <tr>\n",
       "      <th>BL</th>\n",
       "      <td>0.555438</td>\n",
       "      <td>-0.001134</td>\n",
       "    </tr>\n",
       "    <tr>\n",
       "      <th>6M</th>\n",
       "      <td>0.450924</td>\n",
       "      <td>0.522852</td>\n",
       "    </tr>\n",
       "    <tr>\n",
       "      <th>12M</th>\n",
       "      <td>0.631418</td>\n",
       "      <td>0.378470</td>\n",
       "    </tr>\n",
       "  </tbody>\n",
       "</table>\n",
       "</div>"
      ],
      "text/plain": [
       "        Train      Test\n",
       "BL   0.555438 -0.001134\n",
       "6M   0.450924  0.522852\n",
       "12M  0.631418  0.378470"
      ]
     },
     "execution_count": 61,
     "metadata": {},
     "output_type": "execute_result"
    }
   ],
   "source": [
    "lin_signif_records"
   ]
  },
  {
   "cell_type": "code",
   "execution_count": 63,
   "metadata": {},
   "outputs": [
    {
     "data": {
      "text/html": [
       "<div>\n",
       "<style>\n",
       "    .dataframe thead tr:only-child th {\n",
       "        text-align: right;\n",
       "    }\n",
       "\n",
       "    .dataframe thead th {\n",
       "        text-align: left;\n",
       "    }\n",
       "\n",
       "    .dataframe tbody tr th {\n",
       "        vertical-align: top;\n",
       "    }\n",
       "</style>\n",
       "<table border=\"1\" class=\"dataframe\">\n",
       "  <thead>\n",
       "    <tr style=\"text-align: right;\">\n",
       "      <th></th>\n",
       "      <th>Train</th>\n",
       "      <th>Test</th>\n",
       "    </tr>\n",
       "  </thead>\n",
       "  <tbody>\n",
       "    <tr>\n",
       "      <th>BL</th>\n",
       "      <td>0.668476</td>\n",
       "      <td>0.194630</td>\n",
       "    </tr>\n",
       "    <tr>\n",
       "      <th>6M</th>\n",
       "      <td>0.718225</td>\n",
       "      <td>0.367173</td>\n",
       "    </tr>\n",
       "    <tr>\n",
       "      <th>12M</th>\n",
       "      <td>0.819802</td>\n",
       "      <td>0.358399</td>\n",
       "    </tr>\n",
       "  </tbody>\n",
       "</table>\n",
       "</div>"
      ],
      "text/plain": [
       "        Train      Test\n",
       "BL   0.668476  0.194630\n",
       "6M   0.718225  0.367173\n",
       "12M  0.819802  0.358399"
      ]
     },
     "execution_count": 63,
     "metadata": {},
     "output_type": "execute_result"
    }
   ],
   "source": [
    "rf_signif_records"
   ]
  },
  {
   "cell_type": "code",
   "execution_count": null,
   "metadata": {
    "collapsed": true
   },
   "outputs": [],
   "source": []
  }
 ],
 "metadata": {
  "kernelspec": {
   "display_name": "Python 3",
   "language": "python",
   "name": "python3"
  },
  "language_info": {
   "codemirror_mode": {
    "name": "ipython",
    "version": 3
   },
   "file_extension": ".py",
   "mimetype": "text/x-python",
   "name": "python",
   "nbconvert_exporter": "python",
   "pygments_lexer": "ipython3",
   "version": "3.6.1"
  }
 },
 "nbformat": 4,
 "nbformat_minor": 2
}
